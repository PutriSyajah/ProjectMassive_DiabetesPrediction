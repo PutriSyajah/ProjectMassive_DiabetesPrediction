{
  "nbformat": 4,
  "nbformat_minor": 0,
  "metadata": {
    "colab": {
      "provenance": [],
      "include_colab_link": true
    },
    "kernelspec": {
      "name": "python3",
      "display_name": "Python 3"
    },
    "language_info": {
      "name": "python"
    }
  },
  "cells": [
    {
      "cell_type": "markdown",
      "metadata": {
        "id": "view-in-github",
        "colab_type": "text"
      },
      "source": [
        "<a href=\"https://colab.research.google.com/github/PutriSyajah/MassiveProject_DiabetesPrediction/blob/main/Deploy_Gradio.ipynb\" target=\"_parent\"><img src=\"https://colab.research.google.com/assets/colab-badge.svg\" alt=\"Open In Colab\"/></a>"
      ]
    },
    {
      "cell_type": "code",
      "execution_count": null,
      "metadata": {
        "id": "N1fY6RO0KbGU"
      },
      "outputs": [],
      "source": [
        "# API_KEY = \"w5mcH0AMssODzfXg8o6BssU58R6LKr0iZfDZvgPgAp1O\"\n",
        "# [\"Age\",\"Gender\",\"Polyuria\",\"Polydipsia\",\"sudden weight loss\",\"weakness\",\"Polyphagia\",\"Genital thrush\",\"visual blurring\",\"Itching\",\"Irritability\",\"delayed healing\",\"partial paresis\",\"muscle stiffness\",\"Alopecia\",\"Obesity\"]\n",
        "# [35, True, True, True, True, True, True, True, True, True, True, True, True, True, True, True]\n",
        "# [35, False, False, False, False, False, False, False, False, False, False, False, False, False, False, False]"
      ]
    },
    {
      "cell_type": "code",
      "source": [
        "import requests\n",
        "\n",
        "# NOTE: you must manually set API_KEY below using information retrieved from your IBM Cloud account (https://dataplatform.cloud.ibm.com/docs/content/wsj/analyze-data/ml-authentication.html)\n",
        "API_KEY = \"w5mcH0AMssODzfXg8o6BssU58R6LKr0iZfDZvgPgAp1O\"\n",
        "token_response = requests.post('https://iam.cloud.ibm.com/identity/token', data={\"apikey\":\n",
        " API_KEY, \"grant_type\": 'urn:ibm:params:oauth:grant-type:apikey'})\n",
        "mltoken = token_response.json()[\"access_token\"]\n",
        "\n",
        "header = {'Content-Type': 'application/json', 'Authorization': 'Bearer ' + mltoken}\n",
        "\n",
        "# NOTE: manually define and pass the array(s) of values to be scored in the next line\n",
        "payload_scoring = {\"input_data\": [{\n",
        "    \"fields\": [\"Age\",\"Gender\",\"Polyuria\",\"Polydipsia\",\"sudden weight loss\",\"weakness\",\"Polyphagia\",\"Genital thrush\",\"visual blurring\",\"Itching\",\"Irritability\",\"delayed healing\",\"partial paresis\",\"muscle stiffness\",\"Alopecia\",\"Obesity\"],\n",
        "    \"values\": [[35, False, False, False, False, False, False, False, False, False, False, False, False, False, False, False]]\n",
        "    }]}\n",
        "\n",
        "response_scoring = requests.post('https://us-south.ml.cloud.ibm.com/ml/v4/deployments/edrp_deploy_1/predictions?version=2021-05-01', json=payload_scoring,\n",
        " headers={'Authorization': 'Bearer ' + mltoken})\n",
        "print(\"Scoring response\")\n",
        "print(response_scoring.json())"
      ],
      "metadata": {
        "colab": {
          "base_uri": "https://localhost:8080/"
        },
        "id": "plaU71DTbLrl",
        "outputId": "f044003a-29f9-4300-88a0-b26c022a9eb9"
      },
      "execution_count": null,
      "outputs": [
        {
          "output_type": "stream",
          "name": "stdout",
          "text": [
            "Scoring response\n",
            "{'predictions': [{'fields': ['prediction', 'probability'], 'values': [[False, [0.8837209302325572, 0.11627906976744203]]]}]}\n"
          ]
        }
      ]
    },
    {
      "cell_type": "code",
      "source": [
        "!pip install gradio -q"
      ],
      "metadata": {
        "id": "leQdIFKwdwPt",
        "colab": {
          "base_uri": "https://localhost:8080/"
        },
        "outputId": "aaef97f1-a02b-48a0-a654-17fe08a2fb4c"
      },
      "execution_count": null,
      "outputs": [
        {
          "output_type": "stream",
          "name": "stdout",
          "text": [
            "\u001b[2K     \u001b[90m━━━━━━━━━━━━━━━━━━━━━━━━━━━━━━━━━━━━━━━━\u001b[0m \u001b[32m12.3/12.3 MB\u001b[0m \u001b[31m21.7 MB/s\u001b[0m eta \u001b[36m0:00:00\u001b[0m\n",
            "\u001b[2K     \u001b[90m━━━━━━━━━━━━━━━━━━━━━━━━━━━━━━━━━━━━━━━━\u001b[0m \u001b[32m92.0/92.0 kB\u001b[0m \u001b[31m8.5 MB/s\u001b[0m eta \u001b[36m0:00:00\u001b[0m\n",
            "\u001b[?25h  Preparing metadata (setup.py) ... \u001b[?25l\u001b[?25hdone\n",
            "\u001b[2K     \u001b[90m━━━━━━━━━━━━━━━━━━━━━━━━━━━━━━━━━━━━━━━━\u001b[0m \u001b[32m316.3/316.3 kB\u001b[0m \u001b[31m32.2 MB/s\u001b[0m eta \u001b[36m0:00:00\u001b[0m\n",
            "\u001b[2K     \u001b[90m━━━━━━━━━━━━━━━━━━━━━━━━━━━━━━━━━━━━━━━━\u001b[0m \u001b[32m75.6/75.6 kB\u001b[0m \u001b[31m9.2 MB/s\u001b[0m eta \u001b[36m0:00:00\u001b[0m\n",
            "\u001b[2K     \u001b[90m━━━━━━━━━━━━━━━━━━━━━━━━━━━━━━━━━━━━━━━━\u001b[0m \u001b[32m142.5/142.5 kB\u001b[0m \u001b[31m15.7 MB/s\u001b[0m eta \u001b[36m0:00:00\u001b[0m\n",
            "\u001b[2K     \u001b[90m━━━━━━━━━━━━━━━━━━━━━━━━━━━━━━━━━━━━━━━━\u001b[0m \u001b[32m8.8/8.8 MB\u001b[0m \u001b[31m53.0 MB/s\u001b[0m eta \u001b[36m0:00:00\u001b[0m\n",
            "\u001b[2K     \u001b[90m━━━━━━━━━━━━━━━━━━━━━━━━━━━━━━━━━━━━━━━━\u001b[0m \u001b[32m47.2/47.2 kB\u001b[0m \u001b[31m5.0 MB/s\u001b[0m eta \u001b[36m0:00:00\u001b[0m\n",
            "\u001b[2K     \u001b[90m━━━━━━━━━━━━━━━━━━━━━━━━━━━━━━━━━━━━━━━━\u001b[0m \u001b[32m62.4/62.4 kB\u001b[0m \u001b[31m6.1 MB/s\u001b[0m eta \u001b[36m0:00:00\u001b[0m\n",
            "\u001b[2K     \u001b[90m━━━━━━━━━━━━━━━━━━━━━━━━━━━━━━━━━━━━━━━━\u001b[0m \u001b[32m129.9/129.9 kB\u001b[0m \u001b[31m12.4 MB/s\u001b[0m eta \u001b[36m0:00:00\u001b[0m\n",
            "\u001b[2K     \u001b[90m━━━━━━━━━━━━━━━━━━━━━━━━━━━━━━━━━━━━━━━━\u001b[0m \u001b[32m77.9/77.9 kB\u001b[0m \u001b[31m7.3 MB/s\u001b[0m eta \u001b[36m0:00:00\u001b[0m\n",
            "\u001b[2K     \u001b[90m━━━━━━━━━━━━━━━━━━━━━━━━━━━━━━━━━━━━━━━━\u001b[0m \u001b[32m58.3/58.3 kB\u001b[0m \u001b[31m5.5 MB/s\u001b[0m eta \u001b[36m0:00:00\u001b[0m\n",
            "\u001b[2K     \u001b[90m━━━━━━━━━━━━━━━━━━━━━━━━━━━━━━━━━━━━━━━━\u001b[0m \u001b[32m71.9/71.9 kB\u001b[0m \u001b[31m8.0 MB/s\u001b[0m eta \u001b[36m0:00:00\u001b[0m\n",
            "\u001b[2K     \u001b[90m━━━━━━━━━━━━━━━━━━━━━━━━━━━━━━━━━━━━━━━━\u001b[0m \u001b[32m53.6/53.6 kB\u001b[0m \u001b[31m4.6 MB/s\u001b[0m eta \u001b[36m0:00:00\u001b[0m\n",
            "\u001b[2K     \u001b[90m━━━━━━━━━━━━━━━━━━━━━━━━━━━━━━━━━━━━━━━━\u001b[0m \u001b[32m307.7/307.7 kB\u001b[0m \u001b[31m31.5 MB/s\u001b[0m eta \u001b[36m0:00:00\u001b[0m\n",
            "\u001b[2K     \u001b[90m━━━━━━━━━━━━━━━━━━━━━━━━━━━━━━━━━━━━━━━━\u001b[0m \u001b[32m341.4/341.4 kB\u001b[0m \u001b[31m31.5 MB/s\u001b[0m eta \u001b[36m0:00:00\u001b[0m\n",
            "\u001b[2K     \u001b[90m━━━━━━━━━━━━━━━━━━━━━━━━━━━━━━━━━━━━━━━━\u001b[0m \u001b[32m3.4/3.4 MB\u001b[0m \u001b[31m74.7 MB/s\u001b[0m eta \u001b[36m0:00:00\u001b[0m\n",
            "\u001b[2K     \u001b[90m━━━━━━━━━━━━━━━━━━━━━━━━━━━━━━━━━━━━━━━━\u001b[0m \u001b[32m1.2/1.2 MB\u001b[0m \u001b[31m64.4 MB/s\u001b[0m eta \u001b[36m0:00:00\u001b[0m\n",
            "\u001b[?25h  Building wheel for ffmpy (setup.py) ... \u001b[?25l\u001b[?25hdone\n",
            "\u001b[31mERROR: pip's dependency resolver does not currently take into account all the packages that are installed. This behaviour is the source of the following dependency conflicts.\n",
            "spacy 3.7.4 requires typer<0.10.0,>=0.3.0, but you have typer 0.12.3 which is incompatible.\n",
            "weasel 0.3.4 requires typer<0.10.0,>=0.3.0, but you have typer 0.12.3 which is incompatible.\u001b[0m\u001b[31m\n",
            "\u001b[0m"
          ]
        }
      ]
    },
    {
      "cell_type": "code",
      "source": [
        "import gradio as gr\n",
        "import requests\n",
        "\n",
        "# API Key untuk IBM Cloud\n",
        "API_KEY = \"w5mcH0AMssODzfXg8o6BssU58R6LKr0iZfDZvgPgAp1O\"\n",
        "\n",
        "# Mendapatkan token\n",
        "def get_token(api_key):\n",
        "    token_response = requests.post('https://iam.cloud.ibm.com/identity/token', data={\"apikey\": api_key, \"grant_type\": 'urn:ibm:params:oauth:grant-type:apikey'})\n",
        "    return token_response.json()[\"access_token\"]\n",
        "\n",
        "mltoken = get_token(API_KEY)\n",
        "\n",
        "# Fungsi untuk melakukan prediksi\n",
        "def predict_diabetes(Age, Gender, Polyuria, Polydipsia, sudden_weight_loss, weakness, Polyphagia, Genital_thrush, visual_blurring, Itching, Irritability, delayed_healing, partial_paresis, muscle_stiffness, Alopecia, Obesity):\n",
        "    payload_scoring = {\n",
        "        \"input_data\": [\n",
        "            {\n",
        "                \"fields\": [\"Age\", \"Gender\", \"Polyuria\", \"Polydipsia\", \"sudden weight loss\", \"weakness\", \"Polyphagia\", \"Genital thrush\", \"visual blurring\", \"Itching\", \"Irritability\", \"delayed healing\", \"partial paresis\", \"muscle stiffness\", \"Alopecia\", \"Obesity\"],\n",
        "                \"values\": [[Age, Gender, Polyuria, Polydipsia, sudden_weight_loss, weakness, Polyphagia, Genital_thrush, visual_blurring, Itching, Irritability, delayed_healing, partial_paresis, muscle_stiffness, Alopecia, Obesity]]\n",
        "            }\n",
        "        ]\n",
        "    }\n",
        "\n",
        "    response_scoring = requests.post(\n",
        "        'https://us-south.ml.cloud.ibm.com/ml/v4/deployments/edrp_deploy_1/predictions?version=2021-05-01',\n",
        "        json=payload_scoring,\n",
        "        headers={'Authorization': 'Bearer ' + mltoken}\n",
        "    )\n",
        "    prediction = response_scoring.json()\n",
        "    return prediction[\"predictions\"][0][\"values\"][0][0]\n",
        "\n",
        "\n",
        "# Membuat antarmuka Gradio\n",
        "interface = gr.Interface(\n",
        "    fn=predict_diabetes,\n",
        "    inputs=[\n",
        "        gr.components.Number(label=\"Age\"),\n",
        "        gr.components.Dropdown(choices=[True, False], label=\"Gender (True: Male, False: Female)\"),\n",
        "        gr.components.Dropdown(choices=[True, False], label=\"Apakah seering buang air kecil, terutama pada malam hari?\"),\n",
        "        gr.components.Dropdown(choices=[True, False], label=\"Apakah sering merasa haus?\"),\n",
        "        gr.components.Dropdown(choices=[True, False], label=\"Apakah mengalami penurunan berat badan tanpa sebab yang jelas?\"),\n",
        "        gr.components.Dropdown(choices=[True, False], label=\"Apakah mudah lelah dan lemas?\"),\n",
        "        gr.components.Dropdown(choices=[True, False], label=\"Apakah sering merasa lapar?\"),\n",
        "        gr.components.Dropdown(choices=[True, False], label=\"Apakah mudah mengalami infeksi (seperti di gusi, kulit, vagina, atau saluran kemih)\"),\n",
        "        gr.components.Dropdown(choices=[True, False], label=\"Apakah pandangan kabur?\"),\n",
        "        gr.components.Dropdown(choices=[True, False], label=\"Apakah mengalami gatal-gatal di kulit?\"),\n",
        "        gr.components.Dropdown(choices=[True, False], label=\"Apakah Anda sering merasa mudah marah atau iritabel (Irritability)?\"),\n",
        "        gr.components.Dropdown(choices=[True, False], label=\"Apakah jika ada luka sulit sembuh (Delayed Healing)?\"),\n",
        "        gr.components.Dropdown(choices=[True, False], label=\"Apakah Anda mengalami kelemahan pada otot atau kesulitan menggerakkan bagian tertentu dari tubuh? (Partial Paresis)\"),\n",
        "        gr.components.Dropdown(choices=[True, False], label=\"Apakah ada rasa terbakar, kaku otot (muscle stiness), atau nyeri pada kaki? \"),\n",
        "        gr.components.Dropdown(choices=[True, False], label=\"Apakah mengalami rambut rontok/ kebotakan?\"),\n",
        "        gr.components.Dropdown(choices=[True, False], label=\"Apakah mengalami peningkatan BB berlebih\")\n",
        "    ],\n",
        "    outputs=\"text\",\n",
        "    title=\"Diabetes Prediction\",\n",
        "    description=\"Masukkan nilai untuk memprediksi kemungkinan diabetes.\"\n",
        ")\n",
        "\n",
        "interface.launch()"
      ],
      "metadata": {
        "colab": {
          "base_uri": "https://localhost:8080/",
          "height": 626
        },
        "id": "HfG_bp4KgQel",
        "outputId": "52e3a66c-b251-4c97-a56e-0c75206789dc"
      },
      "execution_count": null,
      "outputs": [
        {
          "output_type": "stream",
          "name": "stdout",
          "text": [
            "Setting queue=True in a Colab notebook requires sharing enabled. Setting `share=True` (you can turn this off by setting `share=False` in `launch()` explicitly).\n",
            "\n",
            "Colab notebook detected. To show errors in colab notebook, set debug=True in launch()\n",
            "Running on public URL: https://851bac77426f511428.gradio.live\n",
            "\n",
            "This share link expires in 72 hours. For free permanent hosting and GPU upgrades, run `gradio deploy` from Terminal to deploy to Spaces (https://huggingface.co/spaces)\n"
          ]
        },
        {
          "output_type": "display_data",
          "data": {
            "text/plain": [
              "<IPython.core.display.HTML object>"
            ],
            "text/html": [
              "<div><iframe src=\"https://851bac77426f511428.gradio.live\" width=\"100%\" height=\"500\" allow=\"autoplay; camera; microphone; clipboard-read; clipboard-write;\" frameborder=\"0\" allowfullscreen></iframe></div>"
            ]
          },
          "metadata": {}
        },
        {
          "output_type": "execute_result",
          "data": {
            "text/plain": []
          },
          "metadata": {},
          "execution_count": 3
        }
      ]
    },
    {
      "cell_type": "code",
      "source": [],
      "metadata": {
        "id": "kfslELs4pvto"
      },
      "execution_count": null,
      "outputs": []
    }
  ]
}